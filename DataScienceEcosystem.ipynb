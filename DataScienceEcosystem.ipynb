{
 "cells": [
  {
   "cell_type": "markdown",
   "id": "0e9718f5-d665-443d-8974-b942fa536187",
   "metadata": {},
   "source": [
    "# Data Science Tools and Ecosystem\n",
    "\n",
    "In this notebook, Data Science Tools and Ecosystem are summarized.\n",
    "\n",
    "Some of the popular languages that Data Scientists use are:\r\n",
    "1. Python\r\n",
    "2. R\r\n",
    "3. SQSome of the commonly used libraries used by Data Scientists include:\r\n",
    "1. NumPy\r\n",
    "2. Pandas\r\n",
    "3. Scikit-lear| Data Science Tools |\r\n",
    "|--------------------|\r\n",
    "| Jupyter Notebook   |\r\n",
    "| RStudio            |\r\n",
    "| Apache Zeppelin  \n",
    "### Below are a few examples of evaluating arithmetic expressions in Python.\n",
    "\n",
    "# This a simple arithmetic expression to multiply then add integers\r\n",
    "(3*4)+5\r",
    "# This will convert 200 minutes to hours by dividing by 60\r\n",
    "200 / 60\n",
    "**Objectives:**\r\n",
    "- List popular languages for Data Science\r\n",
    "- List commonly used libraries in Data Science\r\n",
    "- Create a table of Data Science tools\r\n",
    "- Provide examples of evaluating arithmetic expressions in Pyt\n",
    "## Author\r",
    "GELLE\r\n",
    "hon\r\n",
    "\r\n",
    "\n",
    "\r\n",
    "  |\r\n",
    "n\r\n",
    "L\r\n",
    "\n",
    "\r\n"
   ]
  }
 ],
 "metadata": {
  "kernelspec": {
   "display_name": "Python 3 (ipykernel)",
   "language": "python",
   "name": "python3"
  },
  "language_info": {
   "codemirror_mode": {
    "name": "ipython",
    "version": 3
   },
   "file_extension": ".py",
   "mimetype": "text/x-python",
   "name": "python",
   "nbconvert_exporter": "python",
   "pygments_lexer": "ipython3",
   "version": "3.11.7"
  }
 },
 "nbformat": 4,
 "nbformat_minor": 5
}
